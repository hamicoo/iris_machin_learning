{
 "cells": [
  {
   "cell_type": "code",
   "execution_count": null,
   "metadata": {
    "collapsed": true
   },
   "outputs": [
    {
     "name": "stderr",
     "output_type": "stream",
     "text": [
      "/Library/Frameworks/Python.framework/Versions/3.6/lib/python3.6/importlib/_bootstrap.py:219: RuntimeWarning: numpy.dtype size changed, may indicate binary incompatibility. Expected 96, got 88\n  return f(*args, **kwds)\n"
     ]
    }
   ],
   "source": [
    "import numpy as np\n",
    "import pandas as pd\n",
    "import matplotlib.pyplot as plt\n",
    "import seaborn as sb"
   ]
  },
  {
   "cell_type": "code",
   "execution_count": 20,
   "metadata": {},
   "outputs": [],
   "source": [
    "fire=pd.read_csv(\"fire.csv\")\n",
    "\t"
   ]
  },
  {
   "cell_type": "code",
   "execution_count": 22,
   "metadata": {},
   "outputs": [
    {
     "data": {
      "text/html": [
       "<div>\n",
       "<style scoped>\n",
       "    .dataframe tbody tr th:only-of-type {\n",
       "        vertical-align: middle;\n",
       "    }\n",
       "\n",
       "    .dataframe tbody tr th {\n",
       "        vertical-align: top;\n",
       "    }\n",
       "\n",
       "    .dataframe thead th {\n",
       "        text-align: right;\n",
       "    }\n",
       "</style>\n",
       "<table border=\"1\" class=\"dataframe\">\n",
       "  <thead>\n",
       "    <tr style=\"text-align: right;\">\n",
       "      <th></th>\n",
       "      <th>address_qualifier</th>\n",
       "      <th>borough_code</th>\n",
       "      <th>borough_name</th>\n",
       "      <th>cal_year</th>\n",
       "      <th>date_of_call</th>\n",
       "      <th>easting_m</th>\n",
       "      <th>easting_rounded</th>\n",
       "      <th>first_pump_arriving_attendance_time</th>\n",
       "      <th>first_pump_arriving_deployed_from_station</th>\n",
       "      <th>frs</th>\n",
       "      <th>...</th>\n",
       "      <th>property_type</th>\n",
       "      <th>second_pump_arriving_attendance_time</th>\n",
       "      <th>second_pump_arriving_deployed_from_station</th>\n",
       "      <th>special_service_type</th>\n",
       "      <th>stop_code_description</th>\n",
       "      <th>time_of_call</th>\n",
       "      <th>timestamp_of_call</th>\n",
       "      <th>ward_code</th>\n",
       "      <th>ward_name</th>\n",
       "      <th>ward_name_new</th>\n",
       "    </tr>\n",
       "  </thead>\n",
       "  <tbody>\n",
       "    <tr>\n",
       "      <th>0</th>\n",
       "      <td>Within same building</td>\n",
       "      <td>E09000007</td>\n",
       "      <td>CAMDEN</td>\n",
       "      <td>2017</td>\n",
       "      <td>2017-01-20</td>\n",
       "      <td>529459.0</td>\n",
       "      <td>529450</td>\n",
       "      <td>359.0</td>\n",
       "      <td>Euston</td>\n",
       "      <td>London</td>\n",
       "      <td>...</td>\n",
       "      <td>Purpose built office</td>\n",
       "      <td>NaN</td>\n",
       "      <td>NaN</td>\n",
       "      <td>NaN</td>\n",
       "      <td>AFA</td>\n",
       "      <td>08:57:38</td>\n",
       "      <td>2017-01-20 08:57:38</td>\n",
       "      <td>E05000129</td>\n",
       "      <td>BLOOMSBURY</td>\n",
       "      <td>BLOOMSBURY</td>\n",
       "    </tr>\n",
       "  </tbody>\n",
       "</table>\n",
       "<p>1 rows × 32 columns</p>\n",
       "</div>"
      ],
      "text/plain": [
       "<div>\n",
       "<style scoped>\n",
       "    .dataframe tbody tr th:only-of-type {\n",
       "        vertical-align: middle;\n",
       "    }\n",
       "\n",
       "    .dataframe tbody tr th {\n",
       "        vertical-align: top;\n",
       "    }\n",
       "\n",
       "    .dataframe thead th {\n",
       "        text-align: right;\n",
       "    }\n",
       "</style>\n",
       "<table border=\"1\" class=\"dataframe\">\n",
       "  <thead>\n",
       "    <tr style=\"text-align: right;\">\n",
       "      <th></th>\n",
       "      <th>address_qualifier</th>\n",
       "      <th>borough_code</th>\n",
       "      <th>borough_name</th>\n",
       "      <th>cal_year</th>\n",
       "      <th>date_of_call</th>\n",
       "      <th>easting_m</th>\n",
       "      <th>easting_rounded</th>\n",
       "      <th>first_pump_arriving_attendance_time</th>\n",
       "      <th>first_pump_arriving_deployed_from_station</th>\n",
       "      <th>frs</th>\n",
       "      <th>...</th>\n",
       "      <th>property_type</th>\n",
       "      <th>second_pump_arriving_attendance_time</th>\n",
       "      <th>second_pump_arriving_deployed_from_station</th>\n",
       "      <th>special_service_type</th>\n",
       "      <th>stop_code_description</th>\n",
       "      <th>time_of_call</th>\n",
       "      <th>timestamp_of_call</th>\n",
       "      <th>ward_code</th>\n",
       "      <th>ward_name</th>\n",
       "      <th>ward_name_new</th>\n",
       "    </tr>\n",
       "  </thead>\n",
       "  <tbody>\n",
       "    <tr>\n",
       "      <th>0</th>\n",
       "      <td>Within same building</td>\n",
       "      <td>E09000007</td>\n",
       "      <td>CAMDEN</td>\n",
       "      <td>2017</td>\n",
       "      <td>2017-01-20</td>\n",
       "      <td>529459.0</td>\n",
       "      <td>529450</td>\n",
       "      <td>359.0</td>\n",
       "      <td>Euston</td>\n",
       "      <td>London</td>\n",
       "      <td>...</td>\n",
       "      <td>Purpose built office</td>\n",
       "      <td>NaN</td>\n",
       "      <td>NaN</td>\n",
       "      <td>NaN</td>\n",
       "      <td>AFA</td>\n",
       "      <td>08:57:38</td>\n",
       "      <td>2017-01-20 08:57:38</td>\n",
       "      <td>E05000129</td>\n",
       "      <td>BLOOMSBURY</td>\n",
       "      <td>BLOOMSBURY</td>\n",
       "    </tr>\n",
       "  </tbody>\n",
       "</table>\n",
       "<p>1 rows × 32 columns</p>\n",
       "</div>"
      ]
     },
     "execution_count": 22,
     "metadata": {},
     "output_type": "execute_result"
    }
   ],
   "source": [
    "fire.head(1)"
   ]
  },
  {
   "cell_type": "code",
   "execution_count": 18,
   "metadata": {},
   "outputs": [
    {
     "data": {
      "text/plain": [
       "14"
      ]
     },
     "execution_count": 18,
     "metadata": {},
     "output_type": "execute_result"
    }
   ],
   "source": [
    "a+2"
   ]
  },
  {
   "cell_type": "code",
   "execution_count": null,
   "metadata": {},
   "outputs": [],
   "source": []
  }
 ],
 "metadata": {
  "kernelspec": {
   "display_name": "Python 2",
   "language": "python",
   "name": "python2"
  },
  "language_info": {
   "codemirror_mode": {
    "name": "ipython",
    "version": 2
   },
   "file_extension": ".py",
   "mimetype": "text/x-python",
   "name": "python",
   "nbconvert_exporter": "python",
   "pygments_lexer": "ipython2",
   "version": "2.7.6"
  }
 },
 "nbformat": 4,
 "nbformat_minor": 0
}
